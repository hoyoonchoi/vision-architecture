{
  "nbformat": 4,
  "nbformat_minor": 0,
  "metadata": {
    "colab": {
      "provenance": [],
      "gpuType": "T4"
    },
    "kernelspec": {
      "name": "python3",
      "display_name": "Python 3"
    },
    "language_info": {
      "name": "python"
    },
    "accelerator": "GPU"
  },
  "cells": [
    {
      "cell_type": "code",
      "execution_count": 8,
      "metadata": {
        "id": "lFODtDePQF37"
      },
      "outputs": [],
      "source": [
        "import numpy as np\n",
        "from matplotlib import pyplot as plt\n",
        "\n",
        "import torch\n",
        "import torch.nn as nn\n",
        "import torchvision.datasets as dsets\n",
        "import torchvision.transforms as transforms\n",
        "\n",
        "from torchsummary import summary\n",
        "from tqdm import tqdm"
      ]
    },
    {
      "cell_type": "code",
      "source": [
        "#global variable for training\n",
        "#you just use the following hyper-parameters\n",
        "BATCH_SIZE = 100\n",
        "NUM_EPOCHS = 2\n",
        "LEARNING_RATE = 0.01\n",
        "CRITERION= nn.CrossEntropyLoss()"
      ],
      "metadata": {
        "id": "SRTQiC6YQfZ5"
      },
      "execution_count": 9,
      "outputs": []
    },
    {
      "cell_type": "code",
      "source": [
        "# CIFAR10 Dataset\n",
        "train_dataset = dsets.CIFAR10(root='./data',\n",
        "                            train=True,\n",
        "                            transform=transforms.ToTensor(),\n",
        "                            download=True)\n",
        "test_dataset = dsets.CIFAR10(root='./data',\n",
        "                           train=False,\n",
        "                           transform=transforms.ToTensor())\n",
        "\n",
        "train_loader = torch.utils.data.DataLoader(dataset=train_dataset,\n",
        "                                           batch_size=BATCH_SIZE,\n",
        "                                           shuffle=True)\n",
        "test_loader = torch.utils.data.DataLoader(dataset=test_dataset,\n",
        "                                          batch_size=BATCH_SIZE,\n",
        "                                          shuffle=False)\n",
        "\n"
      ],
      "metadata": {
        "colab": {
          "base_uri": "https://localhost:8080/"
        },
        "id": "DagptOG1QxhW",
        "outputId": "1ff8f627-f80d-4508-dbd2-19ae18b28e59"
      },
      "execution_count": 10,
      "outputs": [
        {
          "output_type": "stream",
          "name": "stdout",
          "text": [
            "Downloading https://www.cs.toronto.edu/~kriz/cifar-10-python.tar.gz to ./data/cifar-10-python.tar.gz\n"
          ]
        },
        {
          "output_type": "stream",
          "name": "stderr",
          "text": [
            "100%|██████████| 170498071/170498071 [00:03<00:00, 49006574.28it/s]\n"
          ]
        },
        {
          "output_type": "stream",
          "name": "stdout",
          "text": [
            "Extracting ./data/cifar-10-python.tar.gz to ./data\n"
          ]
        }
      ]
    },
    {
      "cell_type": "code",
      "source": [
        "train_dataset.classes"
      ],
      "metadata": {
        "colab": {
          "base_uri": "https://localhost:8080/"
        },
        "id": "ITXmhJRoRjrd",
        "outputId": "b907e1b1-d66f-4b8e-8f63-bc85b871eb96"
      },
      "execution_count": null,
      "outputs": [
        {
          "output_type": "execute_result",
          "data": {
            "text/plain": [
              "['airplane',\n",
              " 'automobile',\n",
              " 'bird',\n",
              " 'cat',\n",
              " 'deer',\n",
              " 'dog',\n",
              " 'frog',\n",
              " 'horse',\n",
              " 'ship',\n",
              " 'truck']"
            ]
          },
          "metadata": {},
          "execution_count": 6
        }
      ]
    },
    {
      "cell_type": "code",
      "source": [
        "train_dataset.class_to_idx\n",
        "index= 4\n",
        "print(train_dataset.targets[index])\n",
        "print(train_dataset.data[index].shape)\n",
        "plt.imshow(train_dataset.data[index])"
      ],
      "metadata": {
        "colab": {
          "base_uri": "https://localhost:8080/",
          "height": 486
        },
        "id": "OrnHuzuDRoY_",
        "outputId": "3ef1c2b1-6e3f-4f68-af1b-59092333e60b"
      },
      "execution_count": null,
      "outputs": [
        {
          "output_type": "stream",
          "name": "stdout",
          "text": [
            "1\n",
            "(32, 32, 3)\n"
          ]
        },
        {
          "output_type": "execute_result",
          "data": {
            "text/plain": [
              "<matplotlib.image.AxesImage at 0x7acab8b7d780>"
            ]
          },
          "metadata": {},
          "execution_count": 12
        },
        {
          "output_type": "display_data",
          "data": {
            "text/plain": [
              "<Figure size 640x480 with 1 Axes>"
            ],
            "image/png": "[encoded data removed]"
          },
          "metadata": {}
        }
      ]
    },
    {
      "cell_type": "code",
      "source": [
        "def fit(model,train_loader):\n",
        "  # 1 epoch training\n",
        "  model.train()\n",
        "  device = next(model.parameters()).device.index #GPU인지 CPU인지 추론 하는 거 같은거\n",
        "  optimizer = torch.optim.SGD(model.parameters(), lr=LEARNING_RATE, momentum=0.9)\n",
        "  losses= []\n",
        "  for i, data in enumerate(train_loader):\n",
        "    image = data[0].type(torch.FloatTensor).cuda(device)\n",
        "    label = data[1].type(torch.LongTensor).cuda(device)\n",
        "\n",
        "    pred_label = model(image)\n",
        "    loss = CRITERION(pred_label, label)\n",
        "    losses.append(loss.item())\n",
        "\n",
        "    optimizer.zero_grad()\n",
        "    loss.backward()\n",
        "    optimizer.step()\n",
        "  avg_loss = sum(losses)/len(losses)\n",
        "  return avg_loss\n"
      ],
      "metadata": {
        "id": "bvidO5RSS3bW"
      },
      "execution_count": 11,
      "outputs": []
    },
    {
      "cell_type": "code",
      "source": [
        "def eval(model, test_loader):\n",
        "  model.eval()\n",
        "  device = next(model.parameters()).device.index\n",
        "  pred_labels = []\n",
        "  real_labels = []\n",
        "\n",
        "  for i, data in enumerate(test_loader):\n",
        "    image = data[0].type(torch.FloatTensor).cuda(device)\n",
        "    label = data[1].type(torch.LongTensor).cuda(device)\n",
        "    real_labels += list(label.cpu().detach().numpy())\n",
        "    #detach는 gpu위에 이는 pytotch를 numpy로 바꾸기 위한 것임\n",
        "\n",
        "\n",
        "    pred_label = model(image)\n",
        "    pred_label = list(pred_label.cpu().detach().numpy())\n",
        "    pred_labels += pred_label\n",
        "\n",
        "  real_labels= np.array(real_labels)\n",
        "  pred_labels = np.array(pred_labels)\n",
        "  pred_labels = pred_labels.argmax(axis=1)\n",
        "  #argmax 하는 과정은 10개의 클래스의 확률을 output으로\n",
        "  #내는 과정을 1개의 최대 값을 배출 하는 과정을 나는 내는 것임\n",
        "\n",
        "  acc = sum(real_labels == pred_labels)/len(real_labels)*100\n",
        "\n",
        "  return acc"
      ],
      "metadata": {
        "id": "sX6zKqxgUyBE"
      },
      "execution_count": 12,
      "outputs": []
    },
    {
      "cell_type": "markdown",
      "source": [
        "# Task1: Compare between simple MLP and simple CNN"
      ],
      "metadata": {
        "id": "d8C-R_UjYTy-"
      }
    },
    {
      "cell_type": "markdown",
      "source": [
        "MLP"
      ],
      "metadata": {
        "id": "oH-zuwoCYciz"
      }
    },
    {
      "cell_type": "code",
      "source": [
        "class SImpleMLP(nn.Module):\n",
        "  def __init__(self):\n",
        "    super(SImpleMLP, self).__init__()\n",
        "    #FULLY-connceted layer)\n",
        "    self.fc1_1 = nn.Linear(3*32*32, 8*28*28)\n",
        "    self.act1_1 = nn.ReLU()\n",
        "    self.fc1_2 = nn.Linear(8*28*28, 8*24*24)\n",
        "    self.act1_2 = nn.ReLU()\n",
        "    self.pool1 = nn.MaxPool2d(2)\n",
        "\n",
        "    self.fc2_1 = nn.Linear(8*12*12, 16*8*8)\n",
        "    self.act2_1 = nn.ReLU()\n",
        "    self.fc2_2 = nn.Linear(16*8*8, 16*4*4)\n",
        "    self.act2_2 = nn.ReLU()\n",
        "    self.pool2 = nn.MaxPool2d(2)\n",
        "\n",
        "    self.out = nn.Linear(16*2*2, 10)\n",
        "\n",
        "  def forward(self, x):\n",
        "    x = x.view(-1, 3*32*32)\n",
        "\n",
        "    x = self.act1_1(self.fc1_1(x))\n",
        "    x = self.act1_2(self.fc1_2(x))\n",
        "    x = x.view(-1,8,24,24)\n",
        "    x= self.pool1(x)\n",
        "    x = x.view(-1, 8*12*12)\n",
        "\n",
        "    x = self.act2_1(self.fc2_1(x))\n",
        "    x = self.act2_2(self.fc2_2(x))\n",
        "    x = x.view(-1,16,4,4)\n",
        "    x= self.pool2(x)\n",
        "    x = x.view(-1, 16*2*2)\n",
        "\n",
        "    out = self.out(x)\n",
        "    return out"
      ],
      "metadata": {
        "id": "qxBRlPjsYb-R"
      },
      "execution_count": null,
      "outputs": []
    },
    {
      "cell_type": "code",
      "source": [
        "mlp_model = SImpleMLP().cuda()\n",
        "train_loss1 = []\n",
        "test_accuracy1 = []\n",
        "for epoch in tqdm(range(NUM_EPOCHS)):\n",
        "  #시간들을 bar 형태로 보여주는 것\n",
        "  train_loss1.append(fit(mlp_model, train_loader))\n",
        "  test_accuracy1.append(eval(mlp_model, test_loader))\n",
        "\n",
        "summary(mlp_model, input_size= (3, 32, 32))\n",
        "#layer별로 파라미터를 보여 주는 것"
      ],
      "metadata": {
        "colab": {
          "base_uri": "https://localhost:8080/"
        },
        "id": "gOd0Qf0FYStU",
        "outputId": "143fa4c6-b3da-445f-8c53-17a4a33d21f3"
      },
      "execution_count": null,
      "outputs": [
        {
          "output_type": "stream",
          "name": "stderr",
          "text": [
            "100%|██████████| 2/2 [00:20<00:00, 10.44s/it]"
          ]
        },
        {
          "output_type": "stream",
          "name": "stdout",
          "text": [
            "----------------------------------------------------------------\n",
            "        Layer (type)               Output Shape         Param #\n",
            "================================================================\n",
            "            Linear-1                 [-1, 6272]      19,273,856\n",
            "              ReLU-2                 [-1, 6272]               0\n",
            "            Linear-3                 [-1, 4608]      28,905,984\n",
            "              ReLU-4                 [-1, 4608]               0\n",
            "         MaxPool2d-5            [-1, 8, 12, 12]               0\n",
            "            Linear-6                 [-1, 1024]       1,180,672\n",
            "              ReLU-7                 [-1, 1024]               0\n",
            "            Linear-8                  [-1, 256]         262,400\n",
            "              ReLU-9                  [-1, 256]               0\n",
            "        MaxPool2d-10             [-1, 16, 2, 2]               0\n",
            "           Linear-11                   [-1, 10]             650\n",
            "================================================================\n",
            "Total params: 49,623,562\n",
            "Trainable params: 49,623,562\n",
            "Non-trainable params: 0\n",
            "----------------------------------------------------------------\n",
            "Input size (MB): 0.01\n",
            "Forward/backward pass size (MB): 0.19\n",
            "Params size (MB): 189.30\n",
            "Estimated Total Size (MB): 189.51\n",
            "----------------------------------------------------------------\n"
          ]
        },
        {
          "output_type": "stream",
          "name": "stderr",
          "text": [
            "\n"
          ]
        }
      ]
    },
    {
      "cell_type": "code",
      "source": [
        "train_loss1, test_accuracy1"
      ],
      "metadata": {
        "colab": {
          "base_uri": "https://localhost:8080/"
        },
        "id": "6O1XPPDgbqer",
        "outputId": "8cf8c412-e1b4-4ece-d0e5-0439d37b9cb3"
      },
      "execution_count": null,
      "outputs": [
        {
          "output_type": "execute_result",
          "data": {
            "text/plain": [
              "([1.9416428534984589, 1.6798721625804902], [37.24, 42.22])"
            ]
          },
          "metadata": {},
          "execution_count": 21
        }
      ]
    },
    {
      "cell_type": "markdown",
      "source": [
        "CNN"
      ],
      "metadata": {
        "id": "0gu42XwOcdvH"
      }
    },
    {
      "cell_type": "markdown",
      "source": [
        "TAsk 2:VGG"
      ],
      "metadata": {
        "id": "nIpMqmEXcexE"
      }
    },
    {
      "cell_type": "markdown",
      "source": [
        "VGG"
      ],
      "metadata": {
        "id": "Phu06njWcgnb"
      }
    },
    {
      "cell_type": "code",
      "source": [
        "import torch.utils.model_zoo as model_zoo\n",
        "\n",
        "model_urls = {\n",
        "    \"vgg11\": \"https://download.pytorch.org/models/vgg11-bbd30ac9.pth\",\n",
        "    \"vgg13\": \"https://download.pytorch.org/models/vgg13-c768596a.pth\",\n",
        "    \"vgg16\": \"https://download.pytorch.org/models/vgg16-397923af.pth\",\n",
        "    \"vgg19\": \"https://download.pytorch.org/models/vgg19-dcbb9e9d.pth\",\n",
        "    \"vgg11_bn\": \"https://download.pytorch.org/models/vgg11_bn-600\",\n",
        "    \"vgg13_bn\": \"https://download.pytorch.org/models/vgg13_bn-abd245e\",\n",
        "    \"vgg16_bn\": \"https://download.pytorch.org/models/vgg16_bn-6c6\",\n",
        "    \"vgg19_bn\": \"https://download.pytorch.org/models/vgg19_bn-c794\",\n",
        "    }\n"
      ],
      "metadata": {
        "id": "S-S0KmwabxeB"
      },
      "execution_count": null,
      "outputs": []
    },
    {
      "cell_type": "code",
      "source": [
        "class VGG(nn.Module):\n",
        "\n",
        "  def __init__(self, features, num_classes=1000, init_weights=True):\n",
        "    super(VGG, self).__init__()\n",
        "    self.features = features\n",
        "    #feature extractor: convolutional filter의 뭉치.\n",
        "    #feature extractor : convolutional filter의 뭉치. nn.conv2d, nn.batchnorm, .. nn.linear)\n",
        "    self.classifier = nn.Sequential(\n",
        "        nn.Linear(512 * 7 * 7, 4096),\n",
        "        nn.ReLU(True),\n",
        "        nn.Dropout(),\n",
        "        nn.Linear(4096, 4096),\n",
        "        nn.ReLU(True),\n",
        "        nn.Dropout(),\n",
        "        nn.Linear(4096, num_classes),\n",
        "    )   #sequentail을 만들면 한번에 써줄 수 있음 !!\n",
        "    if init_weights:\n",
        "      self._initialize_weights()\n",
        "\n",
        "  def forward(self, x):\n",
        "    x = self.features(x) #batch size X 512 X 7 x/7\n",
        "    x = x.view(x.size(0), -1) #x.size(0) = batch size X (512*7*&7)\n",
        "    #view는 텐서의 크기를 변경하는데 사용되는 것임\n",
        "    #첫 번째 차원은 그대로 두고 나머지 차원들을 하나로 평탄화하는 작업\n",
        "\n",
        "    x = self.classifier(x)\n",
        "    return x\n",
        "\n",
        "  def _initialize_weights(self):\n",
        "    for m in self.modules():\n",
        "      #여기서 말하는 모듈은 feature를 뜻함. nn.~~~\n",
        "      if isinstance(m, nn.Conv2d):\n",
        "        nn.init.kaiming_normal_(m.weight, mode='fan_out', nonlinearity='relu')\n",
        "        #kalming initialization\n",
        "        if m.bias is not None:\n",
        "          nn.init.constant_(m.bias, 0)\n",
        "      elif isinstance(m, nn.BatchNorm2d):\n",
        "        nn.init.constant_(m.weight, 1)\n",
        "        nn.init.constant_(m.bias, 0)\n",
        "      elif isinstance(m, nn.Linear):\n",
        "        nn.init.normal_(m.weight, 0, 0.01)\n",
        "        nn.init.constant_(m.bias, 0)\n",
        "\n",
        "def make_layers(cfg, batch_norm=False):\n",
        "         # config : ditionary 기반으로 encoding 하는 것\n",
        "         #network 정보들을 저장해놓은 것을 통상적으로 부름\n",
        "    layers= []\n",
        "    in_channels = 3\n",
        "    for v in cfg:\n",
        "      if v == 'M':\n",
        "        layers += [nn.MaxPool2d(kernel_size=2, stride=2)]\n",
        "      else:\n",
        "        conv2d = nn.Conv2d(in_channels, v, kernel_size=3, padding=1)\n",
        "        #batch_norm이 있으면 batchnorm을 추가하고\n",
        "        #아니면 그냥 conv와 ReLU 함수를 진행 함.\n",
        "        if batch_norm:\n",
        "          layers += [conv2d, nn.BatchNorm2d(v), nn.ReLU(inplace=True)]\n",
        "        else:\n",
        "          layers += [conv2d, nn.ReLU(inplace=True)]\n",
        "        in_channels = v\n",
        "    return nn.Sequential(*layers)\n",
        "\n",
        "cfg = {\n",
        "    'A': [64, 'M', 128, 'M', 256, 256, 'M', 512, 512, 'M', 512,512, 'M'],\n",
        "    #output channel 수 , M은 maxpool을 의미함\n",
        "    'B': [64, 64, 'M', 128, 128, 'M', 256, 256, 'M', 512, 512, 'M', 512, 512, 'M'],\n",
        "    'C': [64, 64, 'M', 128, 128, 'M', 256, 256, 256, 'M', 512, 512,512, 'M', 512, 512, 512, 'M'],\n",
        "    'D': [64, 64, 'M', 128, 128, 'M', 256, 256, 256, 256, 'M', 512, 512, 512, 512, 'M', 512, 512, 512, 512, 'M'],\n",
        "    }\n",
        "\n",
        "def vgg11(pretrained=False, **kwargs):\n",
        "    if pretrained:\n",
        "      kwargs['init_weights'] = False\n",
        "    model = VGG(make_layers(cfg['A']), **kwargs)\n",
        "    if pretrained:\n",
        "      model.load_state_dict(model_zoo.load_url(model_urls['vgg11']))\n",
        "    return model\n",
        "\n",
        "def vgg11_bn(pretrained=False, **kwargs):\n",
        "    if pretrained:\n",
        "      kwargs['init_weights'] = False\n",
        "    model = VGG(make_layers(cfg['A'], batch_norm=True), **kwargs)\n",
        "    if pretrained:\n",
        "      model.load_state_dict(model_zoo.load_url(model_urls['vgg11_bn']))\n",
        "    return model\n",
        "\n",
        "\n",
        "def vgg13(pretrained=False, **kwargs):\n",
        "    if pretrained:\n",
        "      kwargs['init_weights'] = False\n",
        "    model = VGG(make_layers(cfg['B']), **kwargs)\n",
        "    if pretrained:\n",
        "       model.load_state_dict(model_zoo.load_url(model_urls['vgg13']))\n",
        "    return model\n",
        "\n",
        "def vgg13_bn(pretrained=False, **kwargs):\n",
        "    if pretrained:\n",
        "      kwargs['init_weights'] = False\n",
        "    model = VGG(make_layers(cfg['B'], batch_norm=True), **kwargs)\n",
        "    if pretrained:\n",
        "      model.load_state_dict(model_zoo.load_url(model_urls['vgg13_bn']))\n",
        "    return model\n",
        "\n",
        "def vgg16(pretrained=False, **kwargs):\n",
        "    '''VGG 16-layer model (configuration \"D\")\n",
        "      Args:\n",
        "          pretrained (bool): if True, returns a model pre-trained on ImageNet'''\n",
        "    if pretrained:\n",
        "      kwargs['init_weights'] = False\n",
        "    model = VGG(make_layers(cfg['D']), **kwargs)\n",
        "    if pretrained:\n",
        "      model.load_state_dict(model_zoo.load_url(model_urls['vgg16']))\n",
        "    return model\n",
        "\n",
        "def vgg16_bn(pretrained=False, **kwargs):\n",
        "    '''VGG 16-layer model (configuration \"D\")\n",
        "      Args:\n",
        "          pretrained (bool): if True, returns a model pre-trained on ImageNet'''\n",
        "    if pretrained:\n",
        "      kwargs['init_weights'] = False\n",
        "    model = VGG(make_layers(cfg['D'], batch_norm=True), **kwargs)\n",
        "    if pretrained:\n",
        "      model.load_state_dict(model_zoo.load_url(model_urls['vgg16_bn']))\n",
        "    return model\n",
        "\n",
        "def vgg19(pretrained=False, **kwargs):\n",
        "    '''VGG 19-layer model (configuration \"E\")\n",
        "      Args:\n",
        "          pretrained (bool): if True, returns a model pre-trained on ImageNet'''\n",
        "    if pretrained:\n",
        "      kwargs['init_weights'] = False\n",
        "    model = VGG(make_layers(cfg['E']), **kwargs)\n",
        "    if pretrained:\n",
        "      model.load_state_dict(model_zoo.load_url(model_urls['vgg19']))\n",
        "    return model\n",
        "\n",
        "def vgg19_bn(pretrained=False, **kwargs):\n",
        "    '''VGG 19-layer model (configuration 'E')\n",
        "      Args:\n",
        "          pretrained (bool): if True, returns a model pre-trained on ImageNet'''\n",
        "    if pretrained:\n",
        "     kwargs['init_weights'] = False\n",
        "    model = VGG(make_layers(cfg['E'], batch_norm=True), **kwargs)\n",
        "    if pretrained:\n",
        "      model.load_state_dict(model_zoo.load_url(model_urls['vgg19_bn']))\n",
        "    return model\n",
        "\n"
      ],
      "metadata": {
        "id": "QpxJ98QSckYf"
      },
      "execution_count": null,
      "outputs": []
    },
    {
      "cell_type": "code",
      "source": [
        "vgg_model = vgg11_bn(num_classes=10).cuda()\n",
        "train_loss3 = []\n",
        "test_accuracy3 = []\n",
        "for epoch in tqdm(range(NUM_EPOCHS)):\n",
        "  #시간들을 bar 형태로 보여주는 것\n",
        "  train_loss3.append(fit(mlp_model, train_loader))\n",
        "  test_accuracy3.append(eval(mlp_model, test_loader))\n"
      ],
      "metadata": {
        "colab": {
          "base_uri": "https://localhost:8080/"
        },
        "id": "IXaV_Smpq9xg",
        "outputId": "42227408-4cff-4ba3-a352-f65faeaa92ee"
      },
      "execution_count": null,
      "outputs": [
        {
          "output_type": "stream",
          "name": "stderr",
          "text": [
            "100%|██████████| 2/2 [00:21<00:00, 10.74s/it]\n"
          ]
        }
      ]
    },
    {
      "cell_type": "code",
      "source": [
        "!nvidia-smi"
      ],
      "metadata": {
        "colab": {
          "base_uri": "https://localhost:8080/"
        },
        "id": "l3PYLgEqq9u6",
        "outputId": "badd6862-bf51-43b9-cd9b-5b484c514359"
      },
      "execution_count": null,
      "outputs": [
        {
          "output_type": "stream",
          "name": "stdout",
          "text": [
            "Sat Jul 20 10:30:06 2024       \n",
            "+---------------------------------------------------------------------------------------+\n",
            "| NVIDIA-SMI 535.104.05             Driver Version: 535.104.05   CUDA Version: 12.2     |\n",
            "|-----------------------------------------+----------------------+----------------------+\n",
            "| GPU  Name                 Persistence-M | Bus-Id        Disp.A | Volatile Uncorr. ECC |\n",
            "| Fan  Temp   Perf          Pwr:Usage/Cap |         Memory-Usage | GPU-Util  Compute M. |\n",
            "|                                         |                      |               MIG M. |\n",
            "|=========================================+======================+======================|\n",
            "|   0  Tesla T4                       Off | 00000000:00:04.0 Off |                    0 |\n",
            "| N/A   73C    P0              32W /  70W |   1529MiB / 15360MiB |      0%      Default |\n",
            "|                                         |                      |                  N/A |\n",
            "+-----------------------------------------+----------------------+----------------------+\n",
            "                                                                                         \n",
            "+---------------------------------------------------------------------------------------+\n",
            "| Processes:                                                                            |\n",
            "|  GPU   GI   CI        PID   Type   Process name                            GPU Memory |\n",
            "|        ID   ID                                                             Usage      |\n",
            "|=======================================================================================|\n",
            "+---------------------------------------------------------------------------------------+\n"
          ]
        }
      ]
    },
    {
      "cell_type": "markdown",
      "source": [
        "Task 3 : ResNet"
      ],
      "metadata": {
        "id": "OdPFqx1QtA3f"
      }
    },
    {
      "cell_type": "code",
      "source": [
        "'''\n",
        "ResNet in PyTorch.\n",
        "For Pre-activaition ResNet, see 'preact_resnet.py'.\n",
        "Referenc:\n",
        "[1] Kaiming He, Xiangyu Zhang, Shaoqing Ren, Jian Sun\n",
        "    Deep Residual Learning for Image Recognition. arXiv:1512.03385\n",
        "'''\n",
        "\n",
        "import torch\n",
        "import torch.nn as nn\n",
        "import torch.nn.functional as F\n",
        "\n",
        "class BasicBlock(nn.Module):\n",
        "  expansion = 1\n",
        "\n",
        "  def __init__(self, in_planes, planes, stride=1): #inplane = input channels\n",
        "                                                   #plane = output channels\n",
        "    super(BasicBlock, self).__init__()\n",
        "    self.conv1 = nn.Conv2d(in_planes, planes, kernel_size=3, stride=stride, padding=1, bias=False)\n",
        "    self.bn1 = nn.BatchNorm2d(planes)\n",
        "    self.conv2 = nn.Conv2d(planes, planes, kernel_size=3, stride=1, padding=1, bias=False)\n",
        "    self.bn2 = nn.BatchNorm2d(planes)\n",
        "      #일반적으로는 convolutional 넘어간 것에 x를 붙임.\n",
        "      #그러나 shortcut을 해야할 때가 있음. stride가 1이 아니거나 input값이 다른 경우\n",
        "    self.shortcut = nn.Sequential()\n",
        "    if stride != 1 or in_planes != self.expansion*planes:\n",
        "      self.shortcut = nn.Sequential(\n",
        "          nn.Conv2d(in_planes, self.expansion*planes, kernel_size=1, stride=stride, bias=False),\n",
        "          nn.BatchNorm2d(self.expansion*planes)\n",
        "      )\n",
        "\n",
        "  def forward(self, x):\n",
        "    out = F.relu(self.bn1(self.conv1(x)))\n",
        "    out = self.bn2(self.conv2(out))\n",
        "    out += self.shortcut(x)\n",
        "    out = F.relu(out)\n",
        "    return out\n",
        "\n",
        "\n",
        "class Bottleneck(nn.Module):\n",
        "  expansion = 4\n",
        "#convolutional 층을 3개를 만들고 batchnorm까지 진행한 후에 +selfcut을 넣고 relu를 진행하는 형태임.\n",
        "  def __init__(self, in_planes, planes, stride=1):\n",
        "    super(Bottleneck, self).__init__()\n",
        "    self.conv1 = nn.Conv2d(in_planes, planes, kernel_size=1, bias=False)\n",
        "    self.bn1 = nn.BatchNorm2d(planes)\n",
        "    self.conv2 = nn.Conv2d(planes, planes, kernel_size=3, stride=stride, padding=1, bias=False)\n",
        "\n",
        "    self.bn2 - nn.BatchNorm2d(planes)\n",
        "    self.conv3 = nn.Conv2d(planes, self.expansion*planes, kernel_size=1, bias=False)\n",
        "    self.bn3 = nn.BatchNorm2d(self.expansion*planes)\n",
        "    self.shortcut = nn.Sequential()\n",
        "    if stride != 1 or in_planes != self.expansion*planes:\n",
        "      self.shortcut = nn.Sequential(\n",
        "          nn.Conv2d(in_planes, self.expansion*planes, kernel_size=1, stride=stride, bias=False),\n",
        "          nn.BatchNorm2d(self.expansion*planes)\n",
        "      )\n",
        "\n",
        "  def forward(self, x):\n",
        "    out = F.relu(self.bn1(self.conv1(x)))\n",
        "    out = F.relu(self.bn2(self.conv2(out)))\n",
        "    out = self.bn3(self.conv3(out))\n",
        "    out += self.shortcut(x)\n",
        "    out = F.relu(out)\n",
        "    return out\n",
        "\n",
        "class ResNet(nn.Module):\n",
        "  def __init__(self, block, num_blocks, num_classes=10):\n",
        "    super(ResNet, self).__init__()\n",
        "    self.in_planes = 64\n",
        "\n",
        "    self.conv1 = nn.Conv2d(3, 64, kernel_size=3, stride=1, padding=1, bias=False)\n",
        "    self.bn1 = nn.BatchNorm2d(64)\n",
        "    self.layer1 = self._make_layer(block, 64, num_blocks[0], stride=1)\n",
        "    self.layer2 = self._make_layer(block, 128, num_blocks[1], stride=2)\n",
        "    self.layer3 = self._make_layer(block, 256, num_blocks[2], stride=2)\n",
        "    self.layer4 = self._make_layer(block, 512, num_blocks[3], stride=2)\n",
        "    self.linear = nn.Linear(512*block.expansion, num_classes)\n",
        "\n",
        "  def _make_layer(self,block,planes, num_blocks, stride):\n",
        "    #stride를 제외한 나머지 블락은 1로 채우는 것임,\n",
        "    strides = [stride] + [1]*(num_blocks-1)\n",
        "    layers= []\n",
        "    for stride in strides:\n",
        "        layers.append(block(self.in_planes, planes, stride))\n",
        "        self.in_planes = planes * block.expansion\n",
        "    return nn.Sequential(*layers)\n",
        "\n",
        "  def forward(self, x):\n",
        "    out = F.relu(self.bn1(self.conv1(x)))\n",
        "    out = self.layer1(out)\n",
        "    out = self.layer2(out)\n",
        "    out = self.layer3(out)\n",
        "    out = self.layer4(out)\n",
        "    out = F.avg_pool2d(out, 4) #batch_size x 512 x 1 x 1\n",
        "    out = out.view(out.size(0), -1) #flatten 하는 과정\n",
        "    out = self.linear(out)\n",
        "    return out\n",
        "\n",
        "def ResNet18():\n",
        "  return ResNet(BasicBlock, [2,2,2,2])\n",
        "\n",
        "def ResNet34():\n",
        "    return ResNet(BasicBlock, [3,4,6,3])\n",
        "\n",
        "def ResNet50(): #50 부터는 bottleneck을 주로 사용함\n",
        "                   #block layer는 논문에 구현 되어 있는 수치임\n",
        "    return ResNet(Bottleneck, [3,4,6,3])\n",
        "\n",
        "\n",
        "def ResNet101():\n",
        "    return ResNet(Bottleneck, [3,4,23,3])\n",
        "\n",
        "def Resnet152():\n",
        "    return ResNet(Bottleneck, [3,8,36,3])\n",
        "\n",
        "def test():\n",
        "    net = ResNet19()\n",
        "    y= net(torch.randn(1,3,32,32))\n",
        "    print(y.size())\n",
        "\n"
      ],
      "metadata": {
        "id": "XmCqMicrsI4D"
      },
      "execution_count": 15,
      "outputs": []
    },
    {
      "cell_type": "code",
      "source": [
        "resnet_model = ResNet18().cuda()\n",
        "train_loss4 = []\n",
        "test_accuracy4 = []\n",
        "for epoch in tqdm(range(NUM_EPOCHS)):\n",
        "  #시간들을 bar 형태로 보여주는 것\n",
        "  train_loss4.append(fit(resnet_model, train_loader))\n",
        "  test_accuracy4.append(eval(resnet_model, test_loader))"
      ],
      "metadata": {
        "colab": {
          "base_uri": "https://localhost:8080/"
        },
        "id": "HqHJJUvuwcdp",
        "outputId": "c1e3789d-1fad-4616-b95d-bb6203e87174"
      },
      "execution_count": 16,
      "outputs": [
        {
          "output_type": "stream",
          "name": "stderr",
          "text": [
            "100%|██████████| 2/2 [01:33<00:00, 46.95s/it]\n"
          ]
        }
      ]
    },
    {
      "cell_type": "code",
      "source": [
        "print(train_loss4)\n",
        "print(test_accuracy4)"
      ],
      "metadata": {
        "colab": {
          "base_uri": "https://localhost:8080/"
        },
        "id": "uuUZUxvg1GHC",
        "outputId": "3b8ad8e1-3b6a-42c2-b5ba-d4ba29f07d3e"
      },
      "execution_count": 18,
      "outputs": [
        {
          "output_type": "stream",
          "name": "stdout",
          "text": [
            "[1.274281534433365, 0.732148706138134]\n",
            "[62.4, 69.57]\n"
          ]
        }
      ]
    },
    {
      "cell_type": "markdown",
      "source": [],
      "metadata": {
        "id": "AdrYgul11OKW"
      }
    },
    {
      "cell_type": "markdown",
      "source": [
        "# Task 4 : MobileNet"
      ],
      "metadata": {
        "id": "2hJtv0zu1Qnj"
      }
    },
    {
      "cell_type": "code",
      "source": [
        "import torch\n",
        "\n",
        "# 이전 가져오기를 새 가져오기로 바꿉니다.\n",
        "# from torchvision.models.utils import load_state_dict_from_url\n",
        "load_state_dict_from_url = torch.hub.load_state_dict_from_url"
      ],
      "metadata": {
        "id": "JWUF2tYs1i2E"
      },
      "execution_count": 28,
      "outputs": []
    },
    {
      "cell_type": "code",
      "source": [
        "class ConvBNReLU(nn.Module):\n",
        "  def __init__(self, in_planes, out_planes, kernel_size=3, stride=1, groups=1, bn_aff= True):\n",
        "    padding = (kernel_size -1) // 2\n",
        "    super(ConvBNReLU, self).__init__()\n",
        "    self.conv= nn.Conv2d(in_planes, out_planes, kernel_size, stride, padding, groups=groups, bias=False)\n",
        "    self.bn = nn.BatchNorm2d(out_planes,affine= bn_aff)\n",
        "    self.relu= nn.ReLU6(inplace=True)\n",
        "\n",
        "  def forward(self, x):\n",
        "    x= self.conv(x)\n",
        "    x=self.bn(x)\n",
        "    x= self.relu(x)\n",
        "    return x\n",
        "\n",
        ""
      ],
      "metadata": {
        "id": "VKRvJ1Hi2gQC"
      },
      "execution_count": 72,
      "outputs": []
    },
    {
      "cell_type": "code",
      "source": [
        "#pointwise - BN-depthwise -BN=relu6 - pointwise - bn\n",
        "\n",
        "class invertedResiudal(nn.Module):\n",
        "  def __init__(self, inp, oup, stride, expand_ratio, shortcut, bn_aff):\n",
        "    super(invertedResiudal, self).__init__()\n",
        "    self.shortcut = shortcut\n",
        "    self.bn_aff = bn_aff\n",
        "    self.stride= stride\n",
        "    assert stride in [1,2]\n",
        "\n",
        "    hidden_dim = int(round(inp * expand_ratio))\n",
        "    self.use_res_connect = self.stride == 1 and inp == oup\n",
        "\n",
        "    layers = []\n",
        "    if expand_ratio != 1:\n",
        "      #pw:\n",
        "      layers.append(ConvBNReLU(inp, hidden_dim, kernel_size=1, bn_aff=self.bn_aff))\n",
        "    layers.extend([\n",
        "        #dw : featur map 의  out channels 는 hodden_dim\n",
        "        ConvBNReLU(hidden_dim, hidden_dim, stride=stride, groups=hidden_dim, bn_aff=bn_aff),\n",
        "        #pw-linear squeeze #kernal size -stride -padding\n",
        "        nn.Conv2d(hidden_dim, oup, kernel_size=1),\n",
        "        nn.BatchNorm2d(oup, affine=self.bn_aff)\n",
        "    ])\n",
        "    self.conv = nn.Sequential(*layers)\n",
        "\n",
        "  def forward(self, x):\n",
        "    if self.use_res_connect:\n",
        "      if self.shortcut:\n",
        "        return x + self.conv(x)\n",
        "      else:\n",
        "        return self.conv(x)\n",
        "    else:\n",
        "        return self.conv(x)"
      ],
      "metadata": {
        "id": "O6brq_Fb3QUH"
      },
      "execution_count": 73,
      "outputs": []
    },
    {
      "cell_type": "code",
      "source": [
        "model_urls= {\n",
        "    'mobilenet_v2': 'https://download.pytorch.org/models/mobilenet_v2-b0353104.pth',\n",
        "}\n",
        "def _make_divisible(x, divisible_by=8):\n",
        "  import numpy as np\n",
        "  return int(np.ceil(x*1. / divisible_by)* divisible_by)\n",
        "\n",
        "class MobileNetV2(nn.Module):\n",
        "  def __init__(self, num_classes=1000, width_mult=1.0, inverted_residual_setting=None, round_nearest=8\n",
        "              ,block=None, shortcut = True, bn_aff=True):\n",
        "    super(MobileNetV2, self).__init__()\n",
        "\n",
        "    if block is None:\n",
        "      block = invertedResiudal\n",
        "    input_channel = 32\n",
        "    last_channel = 1280\n",
        "    self.bn_aff = bn_aff\n",
        "    self.shortcut = shortcut\n",
        "\n",
        "    if inverted_residual_setting is None:\n",
        "      inverted_residual_setting = [\n",
        "          # t(expansion rate), c(outputchanel), n(blocks),s(stride)\n",
        "          [1, 16, 1, 1],\n",
        "          [6, 24, 2, 2], #stride 2가 2개 나오는게 아니라 마지막에  1개만 나옴\n",
        "                         #[16-96-24] -[16-96-24] 과정이두번 나옴 #laber intensive\n",
        "           [6, 32, 3, 2],\n",
        "          [6, 64, 4, 2],\n",
        "\n",
        "      ]\n",
        "\n",
        "    if len(inverted_residual_setting) == 0 or len(inverted_residual_setting)!=4:\n",
        "      raise ValueError('inverted_residual_setting should be non-empty or a 4-element list')\n",
        "\n",
        "    # building first layer\n",
        "    input_channel = _make_divisible(input_channel * width_mult, round_nearest)\n",
        "    self.last_channel = _make_divisible(last_channel * max(1.0, width_mult), round_nearest)\n",
        "    features = [ConvBNReLU(3, input_channel, stride=2, bn_aff=self.bn_aff)]\n",
        "\n",
        "    #building inverted residual blocks\n",
        "    for t,c,n,s in inverted_residual_setting:\n",
        "      output_channel = _make_divisible(c * width_mult, round_nearest)\n",
        "      for i in range(n):\n",
        "          stride = s if i == 0 else 1\n",
        "          features.append(block(input_channel,output_channel,stride, expand_ratio=t,\n",
        "                                shortcut = self.shortcut, bn_aff=self.bn_aff))\n",
        "          input_channel = output_channel\n",
        "\n",
        "    #building test several layers\n",
        "    features.append(ConvBNReLU(input_channel, self.last_channel, kernel_size=1, bn_aff=self.bn_aff))\n",
        "\n",
        "   #make it nn.Sequential\n",
        "    self.features = nn.Sequential(*features)\n",
        "\n",
        "   #building classifier\n",
        "    self.classifier = nn.Sequential(\n",
        "        nn.Dropout(),\n",
        "        nn.Linear(self.last_channel, num_classes),\n",
        "    )\n",
        "\n",
        "   # weight initialization\n",
        "    for m in self.modules():\n",
        "      if isinstance(m, nn.Conv2d):\n",
        "        nn.init.kaiming_normal_(m.weight, mode='fan_out', )\n",
        "        if m.bias is not None:\n",
        "          nn.init.zeros_(m.bias)\n",
        "      elif isinstance(m, nn.BatchNorm2d):\n",
        "        nn.init.ones_(m.weight)\n",
        "        nn.init.zeros_(m.bias)\n",
        "      elif isinstance(m, nn.Linear):\n",
        "        nn.init.normal_(m.weight, 0, 0.01)\n",
        "        nn.init.zeros_(m.bias)\n",
        "\n",
        "  def _forward_impl(self, x):\n",
        "\n",
        "      x=self.features(x)\n",
        "      x=nn.functional.adaptive_avg_pool2d(x, 1).reshape(x.shape[0],-1)\n",
        "      x=self.classifier(x)\n",
        "      return x\n",
        "\n",
        "  def forward(self, x):\n",
        "      return self._forward_impl(x)\n",
        "\n",
        "\n"
      ],
      "metadata": {
        "id": "chmalDwX-ZnB"
      },
      "execution_count": 74,
      "outputs": []
    },
    {
      "cell_type": "code",
      "source": [
        "def mobilenet_v2(pretrained=False, progress=True, **kwargs):\n",
        "\n",
        "  model = MobileNetV2(**kwargs)\n",
        "  if pretrained:\n",
        "    state_dict = load_state_dict_from_url(model_urls['mobilenet_v2'],\n",
        "                                          progress=progress)\n",
        "    model.load_state_dict(state_dict)\n",
        "  return model"
      ],
      "metadata": {
        "id": "ErPnjxpeEXaH"
      },
      "execution_count": 75,
      "outputs": []
    },
    {
      "cell_type": "code",
      "source": [
        "resnet_bn_model = mobilenet_v2(num_classes=10).cuda()\n",
        "train_loss5=[]\n",
        "test_accuracy5=[]\n",
        "for epoch in tqdm(range(NUM_EPOCHS)):\n",
        "  #시간들을 bar 형태로 보여주는 것\n",
        "  train_loss5.append(fit(resnet_bn_model, train_loader))\n",
        "  test_accuracy5.append(eval(resnet_bn_model, test_loader))"
      ],
      "metadata": {
        "colab": {
          "base_uri": "https://localhost:8080/"
        },
        "id": "uv06yh7KEkoA",
        "outputId": "eafde40a-0317-41e4-db04-f81e885e2c94"
      },
      "execution_count": 77,
      "outputs": [
        {
          "output_type": "stream",
          "name": "stderr",
          "text": [
            "100%|██████████| 2/2 [00:31<00:00, 15.60s/it]\n"
          ]
        }
      ]
    },
    {
      "cell_type": "code",
      "source": [
        "print (train_loss5)\n",
        "print(test_accuracy5)"
      ],
      "metadata": {
        "id": "QzwhoGTOJJyD",
        "outputId": "ae4360b8-e3a0-48af-8020-0021607fd92a",
        "colab": {
          "base_uri": "https://localhost:8080/"
        }
      },
      "execution_count": 78,
      "outputs": [
        {
          "output_type": "stream",
          "name": "stdout",
          "text": [
            "[1.701685840845108, 1.339791757941246]\n",
            "[46.410000000000004, 56.18]\n"
          ]
        }
      ]
    }
  ]
}